{
 "cells": [
  {
   "cell_type": "code",
   "execution_count": 1,
   "metadata": {},
   "outputs": [],
   "source": [
    "\n",
    "from pyspark.sql import SparkSession\n",
    "import pyspark.sql.types as st\n",
    "import pyspark.sql.functions as sf\n",
    "\n",
    "\n"
   ]
  },
  {
   "cell_type": "code",
   "execution_count": 2,
   "metadata": {},
   "outputs": [],
   "source": [
    "\n",
    "spark = (\n",
    "    SparkSession\n",
    "    .builder\n",
    "    .appName(\"Pyspark tutorial\")\n",
    "    .master(\"local[*]\")\n",
    "    .getOrCreate()\n",
    ")\n",
    "\n"
   ]
  },
  {
   "cell_type": "code",
   "execution_count": 3,
   "metadata": {},
   "outputs": [],
   "source": [
    "data = [\n",
    "\n",
    "(1, 'Alice', 20 ),\n",
    "(2, \"Bob\", 25),\n",
    "(3, \"Charlie\", 30),\n",
    "(4, \"David\", 35)\n",
    "\n",
    "\n",
    "]\n",
    "columns = [\"id\", \"name\", \"age\"]\n",
    "\n",
    "df = spark.createDataFrame(data, columns)"
   ]
  },
  {
   "cell_type": "code",
   "execution_count": 4,
   "metadata": {},
   "outputs": [
    {
     "name": "stdout",
     "output_type": "stream",
     "text": [
      "+---+-------+---+\n",
      "| id|   name|age|\n",
      "+---+-------+---+\n",
      "|  1|  Alice| 20|\n",
      "|  2|    Bob| 25|\n",
      "|  3|Charlie| 30|\n",
      "|  4|  David| 35|\n",
      "+---+-------+---+\n",
      "\n"
     ]
    }
   ],
   "source": [
    "df.show()"
   ]
  },
  {
   "cell_type": "code",
   "execution_count": 5,
   "metadata": {},
   "outputs": [
    {
     "name": "stdout",
     "output_type": "stream",
     "text": [
      "root\n",
      " |-- id: long (nullable = true)\n",
      " |-- name: string (nullable = true)\n",
      " |-- age: long (nullable = true)\n",
      "\n"
     ]
    }
   ],
   "source": [
    "df.printSchema()"
   ]
  },
  {
   "cell_type": "code",
   "execution_count": 6,
   "metadata": {},
   "outputs": [],
   "source": [
    "schema = st.StructType(\n",
    "    [\n",
    "        st.StructField(\"id\", st.IntegerType(), True),\n",
    "        st.StructField(\"name\", st.StringType(), True),\n",
    "        st.StructField(\"age\", st.IntegerType(), True)\n",
    "    ]\n",
    ")\n",
    "\n",
    "df = spark.createDataFrame(data, schema)"
   ]
  },
  {
   "cell_type": "code",
   "execution_count": 7,
   "metadata": {},
   "outputs": [
    {
     "name": "stdout",
     "output_type": "stream",
     "text": [
      "root\n",
      " |-- id: integer (nullable = true)\n",
      " |-- name: string (nullable = true)\n",
      " |-- age: integer (nullable = true)\n",
      "\n"
     ]
    }
   ],
   "source": [
    "df.printSchema()"
   ]
  },
  {
   "cell_type": "code",
   "execution_count": 8,
   "metadata": {},
   "outputs": [
    {
     "name": "stdout",
     "output_type": "stream",
     "text": [
      "+-----------------+-------------------+-----+\n",
      "|DEST_COUNTRY_NAME|ORIGIN_COUNTRY_NAME|count|\n",
      "+-----------------+-------------------+-----+\n",
      "|    United States|            Romania|    1|\n",
      "|    United States|            Ireland|  264|\n",
      "|    United States|              India|   69|\n",
      "|            Egypt|      United States|   24|\n",
      "|Equatorial Guinea|      United States|    1|\n",
      "|    United States|          Singapore|   25|\n",
      "|    United States|            Grenada|   54|\n",
      "|       Costa Rica|      United States|  477|\n",
      "|          Senegal|      United States|   29|\n",
      "|    United States|   Marshall Islands|   44|\n",
      "+-----------------+-------------------+-----+\n",
      "only showing top 10 rows\n",
      "\n"
     ]
    }
   ],
   "source": [
    "df_read_csv = spark.read.csv(\"data/2010-summary.csv\", header=True)\n",
    "df_read_csv.show(10)"
   ]
  },
  {
   "cell_type": "code",
   "execution_count": 16,
   "metadata": {},
   "outputs": [
    {
     "name": "stdout",
     "output_type": "stream",
     "text": [
      "+-----------------+-------------------+-----+\n",
      "|DEST_COUNTRY_NAME|ORIGIN_COUNTRY_NAME|count|\n",
      "+-----------------+-------------------+-----+\n",
      "|    United States|            Romania|    1|\n",
      "|    United States|            Ireland|  264|\n",
      "+-----------------+-------------------+-----+\n",
      "only showing top 2 rows\n",
      "\n"
     ]
    }
   ],
   "source": [
    "df_read_csv = (\n",
    "\n",
    "    spark.read.format(\"csv\")\n",
    "    .option(\"header\", \"true\")\n",
    "    .option(\"delimiter\" , \",\")\n",
    "    .load(\"data/2010-summary.csv\")\n",
    ")\n",
    "\n",
    "df_read_csv.show(2)"
   ]
  },
  {
   "cell_type": "code",
   "execution_count": 17,
   "metadata": {},
   "outputs": [
    {
     "name": "stdout",
     "output_type": "stream",
     "text": [
      "+--------+--------------------+---------------------+---------------+-------------+----------+------------------+------------+------------+------------+-----------+-----+-------+----------+------------+---------------------+------------+--------------------+-----------+\n",
      "|VendorID|tpep_pickup_datetime|tpep_dropoff_datetime|passenger_count|trip_distance|RatecodeID|store_and_fwd_flag|PULocationID|DOLocationID|payment_type|fare_amount|extra|mta_tax|tip_amount|tolls_amount|improvement_surcharge|total_amount|congestion_surcharge|Airport_fee|\n",
      "+--------+--------------------+---------------------+---------------+-------------+----------+------------------+------------+------------+------------+-----------+-----+-------+----------+------------+---------------------+------------+--------------------+-----------+\n",
      "|       1| 2024-09-01 00:05:51|  2024-09-01 00:45:03|              1|          9.8|         1|                 N|         138|          48|           1|       47.8|10.25|    0.5|      13.3|        6.94|                  1.0|       79.79|                 2.5|       1.75|\n",
      "|       1| 2024-09-01 00:59:35|  2024-09-01 01:03:43|              1|          0.5|         1|                 N|         140|         141|           1|        5.1|  3.5|    0.5|       3.0|         0.0|                  1.0|        13.1|                 2.5|        0.0|\n",
      "|       2| 2024-09-01 00:25:00|  2024-09-01 00:34:37|              2|         2.29|         1|                 N|         238|         152|           2|       13.5|  1.0|    0.5|       0.0|         0.0|                  1.0|        16.0|                 0.0|        0.0|\n",
      "|       2| 2024-09-01 00:31:00|  2024-09-01 00:46:52|              1|          5.2|         1|                 N|          93|         130|           1|       24.7|  1.0|    0.5|      4.55|         0.0|                  1.0|       31.75|                 0.0|        0.0|\n",
      "|       2| 2024-09-01 00:11:57|  2024-09-01 00:30:41|              2|         2.26|         1|                 N|          79|         231|           1|       17.0|  1.0|    0.5|       4.4|         0.0|                  1.0|        26.4|                 2.5|        0.0|\n",
      "|       1| 2024-09-01 00:30:13|  2024-09-01 00:36:44|              1|          1.2|         1|                 N|          43|         239|           1|        8.6|  3.5|    0.5|       2.7|         0.0|                  1.0|        16.3|                 2.5|        0.0|\n",
      "|       1| 2024-09-01 00:59:24|  2024-09-01 01:01:00|              1|          0.1|         5|                 N|         143|         143|           3|       0.01|  0.0|    0.0|       0.0|         0.0|                  1.0|        1.01|                 0.0|        0.0|\n",
      "|       1| 2024-09-01 00:08:28|  2024-09-01 00:39:06|              4|          9.8|         1|                 N|          93|         161|           1|       44.3|  3.5|    0.5|      9.85|         0.0|                  1.0|       59.15|                 2.5|        0.0|\n",
      "|       1| 2024-09-01 00:06:07|  2024-09-01 00:11:38|              1|          0.6|         1|                 N|         170|         137|           1|        6.5|  3.5|    0.5|       2.9|         0.0|                  1.0|        14.4|                 2.5|        0.0|\n",
      "|       1| 2024-09-01 00:20:28|  2024-09-01 00:36:06|              1|          4.1|         1|                 N|          79|         263|           1|       19.1|  3.5|    0.5|       4.8|         0.0|                  1.0|        28.9|                 2.5|        0.0|\n",
      "|       1| 2024-09-01 00:39:39|  2024-09-01 00:40:04|              1|          0.0|         1|                 N|         262|         262|           3|        3.0|  3.5|    0.5|       0.0|         0.0|                  1.0|         8.0|                 2.5|        0.0|\n",
      "|       1| 2024-09-01 00:40:13|  2024-09-01 00:40:37|              1|          0.0|         1|                 N|         262|         262|           2|        3.0|  3.5|    0.5|       0.0|         0.0|                  1.0|         8.0|                 2.5|        0.0|\n",
      "|       1| 2024-09-01 00:42:42|  2024-09-01 00:42:57|              1|          0.0|         1|                 N|         262|         262|           2|        3.0|  3.5|    0.5|       0.0|         0.0|                  1.0|         8.0|                 2.5|        0.0|\n",
      "|       1| 2024-09-01 00:58:17|  2024-09-01 01:09:22|              1|          1.8|         1|                 N|         142|         141|           1|       12.8|  3.5|    0.5|       1.0|         0.0|                  1.0|        18.8|                 2.5|        0.0|\n",
      "|       2| 2024-09-01 00:36:54|  2024-09-01 00:46:21|              1|         1.27|         1|                 N|          79|           4|           1|       10.0|  1.0|    0.5|       2.0|         0.0|                  1.0|        17.0|                 2.5|        0.0|\n",
      "|       2| 2024-09-01 00:57:52|  2024-09-01 01:06:48|              1|         1.56|         1|                 N|          79|         211|           1|       10.7|  1.0|    0.5|       2.0|         0.0|                  1.0|        17.7|                 2.5|        0.0|\n",
      "|       1| 2024-09-01 00:05:33|  2024-09-01 00:09:23|              1|          0.8|         1|                 N|         249|          90|           1|        6.5|  3.5|    0.5|       2.3|         0.0|                  1.0|        13.8|                 2.5|        0.0|\n",
      "|       1| 2024-09-01 00:29:49|  2024-09-01 00:45:45|              2|          3.6|         1|                 N|          68|         232|           1|       20.5|  3.5|    0.5|       5.1|         0.0|                  1.0|        30.6|                 2.5|        0.0|\n",
      "|       2| 2024-09-01 00:09:35|  2024-09-01 00:41:39|              1|         9.14|         1|                 N|          68|          89|           1|       42.9|  1.0|    0.5|       5.0|        6.94|                  1.0|       59.84|                 2.5|        0.0|\n",
      "|       2| 2024-09-01 00:24:50|  2024-09-01 00:37:56|              1|         1.26|         1|                 N|         246|         100|           1|       12.8|  1.0|    0.5|      3.56|         0.0|                  1.0|       21.36|                 2.5|        0.0|\n",
      "+--------+--------------------+---------------------+---------------+-------------+----------+------------------+------------+------------+------------+-----------+-----+-------+----------+------------+---------------------+------------+--------------------+-----------+\n",
      "only showing top 20 rows\n",
      "\n"
     ]
    }
   ],
   "source": [
    "df_read_parquet = spark.read.parquet(\"data/yellow_tripdata_2024-09.parquet\")\n",
    "df_read_parquet.show()"
   ]
  },
  {
   "cell_type": "code",
   "execution_count": 18,
   "metadata": {},
   "outputs": [
    {
     "name": "stdout",
     "output_type": "stream",
     "text": [
      "root\n",
      " |-- VendorID: integer (nullable = true)\n",
      " |-- tpep_pickup_datetime: timestamp_ntz (nullable = true)\n",
      " |-- tpep_dropoff_datetime: timestamp_ntz (nullable = true)\n",
      " |-- passenger_count: long (nullable = true)\n",
      " |-- trip_distance: double (nullable = true)\n",
      " |-- RatecodeID: long (nullable = true)\n",
      " |-- store_and_fwd_flag: string (nullable = true)\n",
      " |-- PULocationID: integer (nullable = true)\n",
      " |-- DOLocationID: integer (nullable = true)\n",
      " |-- payment_type: long (nullable = true)\n",
      " |-- fare_amount: double (nullable = true)\n",
      " |-- extra: double (nullable = true)\n",
      " |-- mta_tax: double (nullable = true)\n",
      " |-- tip_amount: double (nullable = true)\n",
      " |-- tolls_amount: double (nullable = true)\n",
      " |-- improvement_surcharge: double (nullable = true)\n",
      " |-- total_amount: double (nullable = true)\n",
      " |-- congestion_surcharge: double (nullable = true)\n",
      " |-- Airport_fee: double (nullable = true)\n",
      "\n"
     ]
    }
   ],
   "source": [
    "df_read_parquet.printSchema()"
   ]
  },
  {
   "cell_type": "markdown",
   "metadata": {},
   "source": [
    "#### Reading in data"
   ]
  },
  {
   "cell_type": "code",
   "execution_count": 19,
   "metadata": {},
   "outputs": [
    {
     "data": {
      "text/plain": [
       "3633030"
      ]
     },
     "execution_count": 19,
     "metadata": {},
     "output_type": "execute_result"
    }
   ],
   "source": [
    "df_read_parquet.count() "
   ]
  },
  {
   "cell_type": "code",
   "execution_count": null,
   "metadata": {},
   "outputs": [],
   "source": []
  },
  {
   "cell_type": "markdown",
   "metadata": {},
   "source": [
    "#### Parquet"
   ]
  },
  {
   "cell_type": "code",
   "execution_count": 20,
   "metadata": {},
   "outputs": [],
   "source": [
    "df_read_parquet.write.parquet(\"data/yellow_tripdata_2024-09_copy.parquet\")"
   ]
  },
  {
   "cell_type": "code",
   "execution_count": null,
   "metadata": {},
   "outputs": [],
   "source": []
  },
  {
   "cell_type": "markdown",
   "metadata": {},
   "source": [
    "### Transformation"
   ]
  },
  {
   "cell_type": "code",
   "execution_count": 46,
   "metadata": {},
   "outputs": [],
   "source": [
    "taxi_df = (\n",
    "\n",
    "    spark\n",
    "    .read\n",
    "    .format(\"parquet\")\n",
    "    .load(\"data/yellow_tripdata_2024-09.parquet\")\n",
    ")"
   ]
  },
  {
   "cell_type": "code",
   "execution_count": 12,
   "metadata": {},
   "outputs": [
    {
     "name": "stdout",
     "output_type": "stream",
     "text": [
      "+--------+--------------------+---------------------+---------------+-------------+----------+------------------+------------+------------+------------+-----------+-----+-------+----------+------------+---------------------+------------+--------------------+-----------+\n",
      "|VendorID|tpep_pickup_datetime|tpep_dropoff_datetime|passenger_count|trip_distance|RatecodeID|store_and_fwd_flag|PULocationID|DOLocationID|payment_type|fare_amount|extra|mta_tax|tip_amount|tolls_amount|improvement_surcharge|total_amount|congestion_surcharge|Airport_fee|\n",
      "+--------+--------------------+---------------------+---------------+-------------+----------+------------------+------------+------------+------------+-----------+-----+-------+----------+------------+---------------------+------------+--------------------+-----------+\n",
      "|       1| 2024-09-01 00:05:51|  2024-09-01 00:45:03|              1|          9.8|         1|                 N|         138|          48|           1|       47.8|10.25|    0.5|      13.3|        6.94|                  1.0|       79.79|                 2.5|       1.75|\n",
      "|       1| 2024-09-01 00:59:35|  2024-09-01 01:03:43|              1|          0.5|         1|                 N|         140|         141|           1|        5.1|  3.5|    0.5|       3.0|         0.0|                  1.0|        13.1|                 2.5|        0.0|\n",
      "+--------+--------------------+---------------------+---------------+-------------+----------+------------------+------------+------------+------------+-----------+-----+-------+----------+------------+---------------------+------------+--------------------+-----------+\n",
      "only showing top 2 rows\n",
      "\n"
     ]
    }
   ],
   "source": [
    "taxi_df.show(2)"
   ]
  },
  {
   "cell_type": "code",
   "execution_count": 14,
   "metadata": {},
   "outputs": [
    {
     "name": "stdout",
     "output_type": "stream",
     "text": [
      "+-------+------------------+------------------+-----------------+------------------+------------------+-----------------+-----------------+------------------+------------------+------------------+-------------------+-----------------+------------------+---------------------+------------------+--------------------+-------------------+\n",
      "|summary|          VendorID|   passenger_count|    trip_distance|        RatecodeID|store_and_fwd_flag|     PULocationID|     DOLocationID|      payment_type|       fare_amount|             extra|            mta_tax|       tip_amount|      tolls_amount|improvement_surcharge|      total_amount|congestion_surcharge|        Airport_fee|\n",
      "+-------+------------------+------------------+-----------------+------------------+------------------+-----------------+-----------------+------------------+------------------+------------------+-------------------+-----------------+------------------+---------------------+------------------+--------------------+-------------------+\n",
      "|  count|           3633030|           3149299|          3633030|           3149299|           3149299|          3633030|          3633030|           3633030|           3633030|           3633030|            3633030|          3633030|           3633030|              3633030|           3633030|             3149299|            3149299|\n",
      "|   mean|1.7724431122231306|1.3032055705095007| 5.74146907952812| 2.267361403283715|              NULL|163.1819519794772|162.7876585109399|1.0645070368260103|20.003841718897263|1.3332638045928606|0.47880214311470043|3.309012661607199| 0.576684981956552|   0.9600296171515246|  28.5390979045304|  2.2198141554676134|0.15697239290394466|\n",
      "| stddev|0.4199700575585026|0.7649121294863445|494.0948263287312|10.638666368995478|              NULL|64.85019891860168|69.99713198734946|0.6803698263865253|19.887829631131755|1.8025235190776907|0.13335959125688257|4.218428204702532|2.2736529005745236|   0.2626378795517542|24.754769525879478|  0.8951147051660812| 0.5189316385423182|\n",
      "|    min|                 1|                 0|              0.0|                 1|                 N|                1|                1|                 0|            -999.0|              -7.5|               -0.5|            -88.0|            -114.2|                 -1.0|           -1000.0|                -2.5|              -1.75|\n",
      "|    max|                 6|                 9|        330397.59|                99|                 Y|              265|              265|                 4|            1862.2|             14.44|               10.5|            500.0|            476.35|                  1.0|           1886.02|                 2.5|               1.75|\n",
      "+-------+------------------+------------------+-----------------+------------------+------------------+-----------------+-----------------+------------------+------------------+------------------+-------------------+-----------------+------------------+---------------------+------------------+--------------------+-------------------+\n",
      "\n"
     ]
    }
   ],
   "source": [
    "taxi_df.describe().show()"
   ]
  },
  {
   "cell_type": "code",
   "execution_count": 17,
   "metadata": {},
   "outputs": [
    {
     "name": "stdout",
     "output_type": "stream",
     "text": [
      "+---------------+--------+\n",
      "|passenger_count|VendorID|\n",
      "+---------------+--------+\n",
      "|              1|       1|\n",
      "|              1|       1|\n",
      "|              2|       2|\n",
      "|              1|       2|\n",
      "|              2|       2|\n",
      "+---------------+--------+\n",
      "only showing top 5 rows\n",
      "\n"
     ]
    }
   ],
   "source": [
    "taxi_df.select(\"passenger_count\", \"VendorID\").show(5)"
   ]
  },
  {
   "cell_type": "code",
   "execution_count": 18,
   "metadata": {},
   "outputs": [
    {
     "name": "stdout",
     "output_type": "stream",
     "text": [
      "+---------------+--------+\n",
      "|passenger_count|VendorID|\n",
      "+---------------+--------+\n",
      "|              1|       1|\n",
      "|              1|       1|\n",
      "|              2|       2|\n",
      "|              1|       2|\n",
      "|              2|       2|\n",
      "+---------------+--------+\n",
      "only showing top 5 rows\n",
      "\n"
     ]
    }
   ],
   "source": [
    "taxi_df.select(taxi_df.passenger_count, taxi_df.VendorID).show(5)"
   ]
  },
  {
   "cell_type": "code",
   "execution_count": 27,
   "metadata": {},
   "outputs": [
    {
     "name": "stdout",
     "output_type": "stream",
     "text": [
      "+--------+---------------+\n",
      "|VendorID|passenger_count|\n",
      "+--------+---------------+\n",
      "|       1|              1|\n",
      "|       1|              1|\n",
      "|       2|              2|\n",
      "|       2|              1|\n",
      "|       2|              2|\n",
      "+--------+---------------+\n",
      "only showing top 5 rows\n",
      "\n"
     ]
    }
   ],
   "source": [
    "taxi_df.select(sf.col(\"VendorID\"), sf.col(\"passenger_count\")).show(5)\n"
   ]
  },
  {
   "cell_type": "markdown",
   "metadata": {},
   "source": [
    "##### Filtering"
   ]
  },
  {
   "cell_type": "code",
   "execution_count": 28,
   "metadata": {},
   "outputs": [
    {
     "name": "stdout",
     "output_type": "stream",
     "text": [
      "+--------+--------------------+---------------------+---------------+-------------+----------+------------------+------------+------------+------------+-----------+-----+-------+----------+------------+---------------------+------------+--------------------+-----------+\n",
      "|VendorID|tpep_pickup_datetime|tpep_dropoff_datetime|passenger_count|trip_distance|RatecodeID|store_and_fwd_flag|PULocationID|DOLocationID|payment_type|fare_amount|extra|mta_tax|tip_amount|tolls_amount|improvement_surcharge|total_amount|congestion_surcharge|Airport_fee|\n",
      "+--------+--------------------+---------------------+---------------+-------------+----------+------------------+------------+------------+------------+-----------+-----+-------+----------+------------+---------------------+------------+--------------------+-----------+\n",
      "|       1| 2024-09-01 00:08:28|  2024-09-01 00:39:06|              4|          9.8|         1|                 N|          93|         161|           1|       44.3|  3.5|    0.5|      9.85|         0.0|                  1.0|       59.15|                 2.5|        0.0|\n",
      "|       1| 2024-09-01 00:39:55|  2024-09-01 00:57:34|              3|          3.7|         1|                 N|         125|         142|           1|       19.8|  3.5|    0.5|      4.95|         0.0|                  1.0|       29.75|                 2.5|        0.0|\n",
      "|       2| 2024-09-01 00:06:23|  2024-09-01 00:18:05|              3|         1.25|         1|                 N|         249|          79|           1|       12.1|  1.0|    0.5|      3.42|         0.0|                  1.0|       20.52|                 2.5|        0.0|\n",
      "|       2| 2024-09-01 00:13:50|  2024-09-01 00:49:43|              3|          8.1|         1|                 N|         234|         198|           2|       40.1|  1.0|    0.5|       0.0|         0.0|                  1.0|        45.1|                 2.5|        0.0|\n",
      "|       2| 2024-09-01 00:32:00|  2024-09-01 00:49:00|              4|         3.41|         1|                 N|         237|          68|           1|       19.8|  1.0|    0.5|       1.0|         0.0|                  1.0|        25.8|                 2.5|        0.0|\n",
      "+--------+--------------------+---------------------+---------------+-------------+----------+------------------+------------+------------+------------+-----------+-----+-------+----------+------------+---------------------+------------+--------------------+-----------+\n",
      "only showing top 5 rows\n",
      "\n"
     ]
    }
   ],
   "source": [
    "taxi_df.where(taxi_df.passenger_count > 2).show(5)"
   ]
  },
  {
   "cell_type": "code",
   "execution_count": 32,
   "metadata": {},
   "outputs": [
    {
     "name": "stdout",
     "output_type": "stream",
     "text": [
      "+--------+--------------------+---------------------+---------------+-------------+----------+------------------+------------+------------+------------+-----------+-----+-------+----------+------------+---------------------+------------+--------------------+-----------+\n",
      "|VendorID|tpep_pickup_datetime|tpep_dropoff_datetime|passenger_count|trip_distance|RatecodeID|store_and_fwd_flag|PULocationID|DOLocationID|payment_type|fare_amount|extra|mta_tax|tip_amount|tolls_amount|improvement_surcharge|total_amount|congestion_surcharge|Airport_fee|\n",
      "+--------+--------------------+---------------------+---------------+-------------+----------+------------------+------------+------------+------------+-----------+-----+-------+----------+------------+---------------------+------------+--------------------+-----------+\n",
      "|       2| 2024-09-01 00:27:46|  2024-09-01 01:20:29|              3|        27.07|         1|                 N|         132|         181|           1|      105.9|  1.0|    0.5|     21.68|         0.0|                  1.0|      131.83|                 0.0|       1.75|\n",
      "|       2| 2024-09-01 00:45:34|  2024-09-01 01:36:15|              5|        21.99|         1|                 N|         249|         118|           1|       87.0|  1.0|    0.5|     22.56|       20.82|                  1.0|      135.38|                 2.5|        0.0|\n",
      "|       2| 2024-09-01 00:01:17|  2024-09-01 00:01:27|              3|          0.0|         5|                 N|         170|         170|           1|      120.0|  0.0|    0.0|      24.7|         0.0|                  1.0|       148.2|                 2.5|        0.0|\n",
      "|       2| 2024-09-01 00:05:20|  2024-09-01 00:47:45|              3|        30.35|         4|                 N|         132|         265|           1|      143.0|  1.0|    0.5|      20.0|        6.94|                  1.0|      174.19|                 0.0|       1.75|\n",
      "|       2| 2024-09-01 00:26:50|  2024-09-01 01:06:39|              3|        21.13|         5|                 N|         132|         261|           1|       93.0|  0.0|    0.0|      19.3|         0.0|                  1.0|      117.55|                 2.5|       1.75|\n",
      "+--------+--------------------+---------------------+---------------+-------------+----------+------------------+------------+------------+------------+-----------+-----+-------+----------+------------+---------------------+------------+--------------------+-----------+\n",
      "only showing top 5 rows\n",
      "\n"
     ]
    }
   ],
   "source": [
    "(taxi_df\n",
    " .where(\n",
    "     (sf.col(\"passenger_count\") > 2)\n",
    "     &(sf.col(\"total_amount\") > 100)\n",
    "     )\n",
    "     .show(5)\n",
    "     )"
   ]
  },
  {
   "cell_type": "code",
   "execution_count": 42,
   "metadata": {},
   "outputs": [
    {
     "name": "stdout",
     "output_type": "stream",
     "text": [
      "+--------+--------------------+---------------------+---------------+-------------+----------+------------------+------------+------------+------------+-----------+-----+-------+----------+------------+---------------------+------------+--------------------+-----------+\n",
      "|VendorID|tpep_pickup_datetime|tpep_dropoff_datetime|passenger_count|trip_distance|RatecodeID|store_and_fwd_flag|PULocationID|DOLocationID|payment_type|fare_amount|extra|mta_tax|tip_amount|tolls_amount|improvement_surcharge|total_amount|congestion_surcharge|Airport_fee|\n",
      "+--------+--------------------+---------------------+---------------+-------------+----------+------------------+------------+------------+------------+-----------+-----+-------+----------+------------+---------------------+------------+--------------------+-----------+\n",
      "|       1| 2024-09-01 00:23:40|  2024-09-01 00:43:46|              1|          3.9|         1|                 Y|         142|          42|           1|       20.5|  3.5|    0.5|      6.35|         0.0|                  1.0|       31.85|                 2.5|        0.0|\n",
      "|       1| 2024-09-01 00:16:25|  2024-09-01 00:20:14|              1|          0.8|         1|                 Y|          48|         143|           1|        6.5|  3.5|    0.5|       2.3|         0.0|                  1.0|        13.8|                 2.5|        0.0|\n",
      "|       1| 2024-09-01 00:47:47|  2024-09-01 00:54:12|              3|          1.2|         1|                 Y|         186|          68|           2|        7.9|  3.5|    0.5|       0.0|         0.0|                  1.0|        12.9|                 2.5|        0.0|\n",
      "|       1| 2024-09-01 00:17:34|  2024-09-01 00:48:23|              1|          4.4|         1|                 Y|         230|          87|           1|       28.9|  3.5|    0.5|      6.75|         0.0|                  1.0|       40.65|                 2.5|        0.0|\n",
      "|       2| 2024-09-01 00:13:00|  2024-09-01 00:17:30|              1|         0.88|         1|                 Y|         249|          68|           1|        6.5|  1.0|    0.5|      3.45|         0.0|                  1.0|       14.95|                 2.5|        0.0|\n",
      "+--------+--------------------+---------------------+---------------+-------------+----------+------------------+------------+------------+------------+-----------+-----+-------+----------+------------+---------------------+------------+--------------------+-----------+\n",
      "only showing top 5 rows\n",
      "\n"
     ]
    }
   ],
   "source": [
    "taxi_df.where(~(sf.col(\"store_and_fwd_flag\") == 'N')).show(5)"
   ]
  },
  {
   "cell_type": "markdown",
   "metadata": {},
   "source": [
    "##### withColumn"
   ]
  },
  {
   "cell_type": "code",
   "execution_count": 47,
   "metadata": {},
   "outputs": [
    {
     "name": "stdout",
     "output_type": "stream",
     "text": [
      "+-------------------------+--------------------+-----------+------------+\n",
      "|total_amount_with_all_tax|congestion_surcharge|Airport_fee|total_amount|\n",
      "+-------------------------+--------------------+-----------+------------+\n",
      "|                    84.04|                 2.5|       1.75|       79.79|\n",
      "|                     15.6|                 2.5|        0.0|        13.1|\n",
      "|                     16.0|                 0.0|        0.0|        16.0|\n",
      "|                    31.75|                 0.0|        0.0|       31.75|\n",
      "|                     28.9|                 2.5|        0.0|        26.4|\n",
      "+-------------------------+--------------------+-----------+------------+\n",
      "only showing top 5 rows\n",
      "\n"
     ]
    }
   ],
   "source": [
    "taxi_df = (\n",
    "    taxi_df\n",
    "    .withColumn(\"total_amount_with_all_tax\"\n",
    "                , sf.col(\"total_amount\") + sf.col(\"congestion_surcharge\")\n",
    "                + sf.col(\"Airport_fee\")\n",
    "    )\n",
    ")\n",
    "\n",
    "(\n",
    "    taxi_df\n",
    "    .select(\n",
    "        sf.col(\"total_amount_with_all_tax\"),\n",
    "        sf.col(\"congestion_surcharge\"),\n",
    "        sf.col(\"Airport_fee\"),\n",
    "        sf.col(\"total_amount\"),\n",
    "    ).show(5)\n",
    ")"
   ]
  },
  {
   "cell_type": "markdown",
   "metadata": {},
   "source": [
    "##### withColumnRenamed"
   ]
  },
  {
   "cell_type": "code",
   "execution_count": 48,
   "metadata": {},
   "outputs": [],
   "source": [
    "taxi_df = taxi_df.withColumnRenamed(\"total_amount_with_all_tax\", \"total_amount_with_taxes\")"
   ]
  },
  {
   "cell_type": "code",
   "execution_count": 49,
   "metadata": {},
   "outputs": [
    {
     "name": "stdout",
     "output_type": "stream",
     "text": [
      "+--------+--------------------+---------------------+---------------+-------------+----------+------------------+------------+------------+------------+-----------+-----+-------+----------+------------+---------------------+------------+--------------------+-----------+-----------------------+\n",
      "|VendorID|tpep_pickup_datetime|tpep_dropoff_datetime|passenger_count|trip_distance|RatecodeID|store_and_fwd_flag|PULocationID|DOLocationID|payment_type|fare_amount|extra|mta_tax|tip_amount|tolls_amount|improvement_surcharge|total_amount|congestion_surcharge|Airport_fee|total_amount_with_taxes|\n",
      "+--------+--------------------+---------------------+---------------+-------------+----------+------------------+------------+------------+------------+-----------+-----+-------+----------+------------+---------------------+------------+--------------------+-----------+-----------------------+\n",
      "|       1| 2024-09-01 00:05:51|  2024-09-01 00:45:03|              1|          9.8|         1|                 N|         138|          48|           1|       47.8|10.25|    0.5|      13.3|        6.94|                  1.0|       79.79|                 2.5|       1.75|                  84.04|\n",
      "|       1| 2024-09-01 00:59:35|  2024-09-01 01:03:43|              1|          0.5|         1|                 N|         140|         141|           1|        5.1|  3.5|    0.5|       3.0|         0.0|                  1.0|        13.1|                 2.5|        0.0|                   15.6|\n",
      "|       2| 2024-09-01 00:25:00|  2024-09-01 00:34:37|              2|         2.29|         1|                 N|         238|         152|           2|       13.5|  1.0|    0.5|       0.0|         0.0|                  1.0|        16.0|                 0.0|        0.0|                   16.0|\n",
      "+--------+--------------------+---------------------+---------------+-------------+----------+------------------+------------+------------+------------+-----------+-----+-------+----------+------------+---------------------+------------+--------------------+-----------+-----------------------+\n",
      "only showing top 3 rows\n",
      "\n"
     ]
    }
   ],
   "source": [
    "taxi_df.show(3)"
   ]
  },
  {
   "cell_type": "markdown",
   "metadata": {},
   "source": [
    "##### Drop"
   ]
  },
  {
   "cell_type": "code",
   "execution_count": 50,
   "metadata": {},
   "outputs": [
    {
     "name": "stdout",
     "output_type": "stream",
     "text": [
      "+--------+--------------------+---------------------+---------------+-------------+----------+------------------+------------+------------+------------+-----------+-----+-------+----------+------------+---------------------+------------+--------------------+-----------+\n",
      "|VendorID|tpep_pickup_datetime|tpep_dropoff_datetime|passenger_count|trip_distance|RatecodeID|store_and_fwd_flag|PULocationID|DOLocationID|payment_type|fare_amount|extra|mta_tax|tip_amount|tolls_amount|improvement_surcharge|total_amount|congestion_surcharge|Airport_fee|\n",
      "+--------+--------------------+---------------------+---------------+-------------+----------+------------------+------------+------------+------------+-----------+-----+-------+----------+------------+---------------------+------------+--------------------+-----------+\n",
      "|       1| 2024-09-01 00:05:51|  2024-09-01 00:45:03|              1|          9.8|         1|                 N|         138|          48|           1|       47.8|10.25|    0.5|      13.3|        6.94|                  1.0|       79.79|                 2.5|       1.75|\n",
      "|       1| 2024-09-01 00:59:35|  2024-09-01 01:03:43|              1|          0.5|         1|                 N|         140|         141|           1|        5.1|  3.5|    0.5|       3.0|         0.0|                  1.0|        13.1|                 2.5|        0.0|\n",
      "|       2| 2024-09-01 00:25:00|  2024-09-01 00:34:37|              2|         2.29|         1|                 N|         238|         152|           2|       13.5|  1.0|    0.5|       0.0|         0.0|                  1.0|        16.0|                 0.0|        0.0|\n",
      "+--------+--------------------+---------------------+---------------+-------------+----------+------------------+------------+------------+------------+-----------+-----+-------+----------+------------+---------------------+------------+--------------------+-----------+\n",
      "only showing top 3 rows\n",
      "\n"
     ]
    }
   ],
   "source": [
    "taxi_df = taxi_df.drop(sf.col(\"total_amount_with_taxes\"))\n",
    "taxi_df.show(3)"
   ]
  },
  {
   "cell_type": "markdown",
   "metadata": {},
   "source": [
    "##### Group By (order by)"
   ]
  },
  {
   "cell_type": "code",
   "execution_count": 55,
   "metadata": {},
   "outputs": [
    {
     "name": "stdout",
     "output_type": "stream",
     "text": [
      "+------------+------+\n",
      "|PULocationID| count|\n",
      "+------------+------+\n",
      "|         132|188147|\n",
      "|         237|166033|\n",
      "|         161|153988|\n",
      "|         236|149284|\n",
      "|         186|120393|\n",
      "|         162|117163|\n",
      "|         230|113531|\n",
      "|         138|111112|\n",
      "|         142|107537|\n",
      "|          68|104585|\n",
      "+------------+------+\n",
      "only showing top 10 rows\n",
      "\n"
     ]
    }
   ],
   "source": [
    "(\n",
    "    taxi_df\n",
    "    .groupBy(sf.col(\"PULocationID\"))\n",
    "    .count()\n",
    "    .sort(sf.col(\"count\"), ascending = False)\n",
    "    .show(10)\n",
    ")"
   ]
  },
  {
   "cell_type": "code",
   "execution_count": 60,
   "metadata": {},
   "outputs": [
    {
     "name": "stdout",
     "output_type": "stream",
     "text": [
      "+------------+-------------+----------+\n",
      "|payment_type| total_amount|avg_amount|\n",
      "+------------+-------------+----------+\n",
      "|           1|8.109027601E7|     31.13|\n",
      "|           0|1.157718759E7|     23.93|\n",
      "|           2|1.068214365E7|     23.99|\n",
      "|           3|    198527.68|      7.84|\n",
      "|           4|    135263.93|      1.83|\n",
      "+------------+-------------+----------+\n",
      "\n"
     ]
    }
   ],
   "source": [
    "(\n",
    "    taxi_df\n",
    "    .groupBy(sf.col(\"payment_type\"))\n",
    "    .agg(\n",
    "        sf.sum(\"total_amount\").alias(\"total_amount\"),\n",
    "        sf.avg(\"total_amount\").alias(\"avg_amount\"),\n",
    "    )\n",
    "    .sort(sf.col(\"total_amount\"), ascending=False)\n",
    "    # .withColumn(\"total_amount\", sf.format_number(sf.col(\"total_amount\"), 2))\n",
    "    # .withColumn(\"avg_amount\", sf.format_number(sf.col(\"avg_amount\"), 2))\n",
    "    .withColumn(\"total_amount\", sf.round(sf.col(\"total_amount\"), 2))\n",
    "    .withColumn(\"avg_amount\", sf.round(sf.col(\"avg_amount\"), 2))\n",
    "    .show(5)\n",
    ")\n"
   ]
  },
  {
   "cell_type": "code",
   "execution_count": 63,
   "metadata": {},
   "outputs": [
    {
     "name": "stdout",
     "output_type": "stream",
     "text": [
      "+-----------+-------+-------------+\n",
      "|employee_id|   name|department_id|\n",
      "+-----------+-------+-------------+\n",
      "|          1|  Alice|            1|\n",
      "|          2|    Bob|            2|\n",
      "|          3|Charlie|            4|\n",
      "|          4|  David|            5|\n",
      "|          5|    Eve|            5|\n",
      "|          6|  Frank|            3|\n",
      "|          7| George|            7|\n",
      "|          8| Hannah|            9|\n",
      "|          9|   Ivan|            5|\n",
      "|         10|   John|            4|\n",
      "+-----------+-------+-------------+\n",
      "\n",
      "None\n",
      "+-------------+---------------+\n",
      "|department_id|department_name|\n",
      "+-------------+---------------+\n",
      "|            1|             IT|\n",
      "|            2|             HR|\n",
      "|            3|          Sales|\n",
      "|            4|        Finance|\n",
      "|            5|      Marketing|\n",
      "|            6|          Legal|\n",
      "|            7|     Operations|\n",
      "+-------------+---------------+\n",
      "\n",
      "None\n"
     ]
    }
   ],
   "source": [
    "# DataFrame 1: employees\n",
    "employees_data = [\n",
    "    (1, \"Alice\", 1),\n",
    "    (2, \"Bob\", 2),\n",
    "    (3, \"Charlie\", 4),\n",
    "    (4, \"David\", 5),\n",
    "    (5, \"Eve\", 5),\n",
    "    (6, \"Frank\", 3),\n",
    "    (7, \"George\", 7),\n",
    "    (8, \"Hannah\", 9),\n",
    "    (9, \"Ivan\", 5),\n",
    "    (10, \"John\", 4),\n",
    "]\n",
    "employess_columns = [\"employee_id\", \"name\", \"department_id\"]\n",
    "employees_df = spark.createDataFrame(employees_data, employess_columns)\n",
    "\n",
    "# DataFrame 2: departments\n",
    "departments_data = [\n",
    "    (1, \"IT\"),\n",
    "    (2, \"HR\"),\n",
    "    (3, \"Sales\"),\n",
    "    (4, \"Finance\"),\n",
    "    (5, \"Marketing\"),\n",
    "    (6, \"Legal\"),\n",
    "    (7, \"Operations\"),\n",
    "]\n",
    "departments_columns = [\"department_id\", \"department_name\"]\n",
    "departments_df = spark.createDataFrame(departments_data, departments_columns)\n",
    "\n",
    "print(employees_df.show())\n",
    "print(departments_df.show())"
   ]
  },
  {
   "cell_type": "code",
   "execution_count": 64,
   "metadata": {},
   "outputs": [
    {
     "name": "stdout",
     "output_type": "stream",
     "text": [
      "+-------------+-----------+-------+---------------+\n",
      "|department_id|employee_id|   name|department_name|\n",
      "+-------------+-----------+-------+---------------+\n",
      "|            1|          1|  Alice|             IT|\n",
      "|            2|          2|    Bob|             HR|\n",
      "|            3|          6|  Frank|          Sales|\n",
      "|            4|          3|Charlie|        Finance|\n",
      "|            4|         10|   John|        Finance|\n",
      "|            5|          4|  David|      Marketing|\n",
      "|            5|          5|    Eve|      Marketing|\n",
      "|            5|          9|   Ivan|      Marketing|\n",
      "|            7|          7| George|     Operations|\n",
      "+-------------+-----------+-------+---------------+\n",
      "\n"
     ]
    }
   ],
   "source": [
    "inner_join_df = (\n",
    "    employees_df\n",
    "    .join(departments_df, \"department_id\")\n",
    "    .sort(sf.col(\"department_id\"))\n",
    "\n",
    ")\n",
    "\n",
    "inner_join_df.show()"
   ]
  },
  {
   "cell_type": "code",
   "execution_count": 65,
   "metadata": {},
   "outputs": [
    {
     "name": "stdout",
     "output_type": "stream",
     "text": [
      "+-------------+-----------+-------+---------------+\n",
      "|department_id|employee_id|   name|department_name|\n",
      "+-------------+-----------+-------+---------------+\n",
      "|            1|          1|  Alice|             IT|\n",
      "|            2|          2|    Bob|             HR|\n",
      "|            3|          6|  Frank|          Sales|\n",
      "|            4|          3|Charlie|        Finance|\n",
      "|            4|         10|   John|        Finance|\n",
      "|            5|          4|  David|      Marketing|\n",
      "|            5|          5|    Eve|      Marketing|\n",
      "|            5|          9|   Ivan|      Marketing|\n",
      "|            7|          7| George|     Operations|\n",
      "|            9|          8| Hannah|           NULL|\n",
      "+-------------+-----------+-------+---------------+\n",
      "\n"
     ]
    }
   ],
   "source": [
    "left_join_df = (\n",
    "    employees_df\n",
    "    .join(departments_df, \"department_id\", how=\"left\")\n",
    "    .sort(sf.col(\"department_id\"))\n",
    "\n",
    ")\n",
    "\n",
    "left_join_df.show()"
   ]
  },
  {
   "cell_type": "code",
   "execution_count": 66,
   "metadata": {},
   "outputs": [
    {
     "name": "stdout",
     "output_type": "stream",
     "text": [
      "+-------------+-----------+-------+---------------+\n",
      "|department_id|employee_id|   name|department_name|\n",
      "+-------------+-----------+-------+---------------+\n",
      "|            1|          1|  Alice|             IT|\n",
      "|            2|          2|    Bob|             HR|\n",
      "|            3|          6|  Frank|          Sales|\n",
      "|            4|          3|Charlie|        Finance|\n",
      "|            4|         10|   John|        Finance|\n",
      "|            5|          4|  David|      Marketing|\n",
      "|            5|          5|    Eve|      Marketing|\n",
      "|            5|          9|   Ivan|      Marketing|\n",
      "|            6|       NULL|   NULL|          Legal|\n",
      "|            7|          7| George|     Operations|\n",
      "|            9|          8| Hannah|           NULL|\n",
      "+-------------+-----------+-------+---------------+\n",
      "\n"
     ]
    }
   ],
   "source": [
    "outer_join_df = (\n",
    "    employees_df\n",
    "    .join(departments_df, \"department_id\", how=\"outer\")\n",
    "    .sort(sf.col(\"department_id\"))\n",
    "\n",
    ")\n",
    "\n",
    "outer_join_df.show()"
   ]
  },
  {
   "cell_type": "markdown",
   "metadata": {},
   "source": [
    "##### SparkSql"
   ]
  },
  {
   "cell_type": "code",
   "execution_count": 69,
   "metadata": {},
   "outputs": [],
   "source": [
    "taxi_df = (\n",
    "    spark\n",
    "    .read\n",
    "    .format(\"parquet\")\n",
    "    .load(\"data/yellow_tripdata_2024-09.parquet\")\n",
    ")"
   ]
  },
  {
   "cell_type": "code",
   "execution_count": 70,
   "metadata": {},
   "outputs": [],
   "source": [
    "taxi_df.createOrReplaceTempView(\"taxi_temp_view\")"
   ]
  },
  {
   "cell_type": "code",
   "execution_count": 71,
   "metadata": {},
   "outputs": [
    {
     "name": "stdout",
     "output_type": "stream",
     "text": [
      "+--------+--------------------+---------------------+---------------+-------------+----------+------------------+------------+------------+------------+-----------+-----+-------+----------+------------+---------------------+------------+--------------------+-----------+\n",
      "|VendorID|tpep_pickup_datetime|tpep_dropoff_datetime|passenger_count|trip_distance|RatecodeID|store_and_fwd_flag|PULocationID|DOLocationID|payment_type|fare_amount|extra|mta_tax|tip_amount|tolls_amount|improvement_surcharge|total_amount|congestion_surcharge|Airport_fee|\n",
      "+--------+--------------------+---------------------+---------------+-------------+----------+------------------+------------+------------+------------+-----------+-----+-------+----------+------------+---------------------+------------+--------------------+-----------+\n",
      "|       1| 2024-09-01 00:05:51|  2024-09-01 00:45:03|              1|          9.8|         1|                 N|         138|          48|           1|       47.8|10.25|    0.5|      13.3|        6.94|                  1.0|       79.79|                 2.5|       1.75|\n",
      "|       1| 2024-09-01 00:59:35|  2024-09-01 01:03:43|              1|          0.5|         1|                 N|         140|         141|           1|        5.1|  3.5|    0.5|       3.0|         0.0|                  1.0|        13.1|                 2.5|        0.0|\n",
      "|       2| 2024-09-01 00:25:00|  2024-09-01 00:34:37|              2|         2.29|         1|                 N|         238|         152|           2|       13.5|  1.0|    0.5|       0.0|         0.0|                  1.0|        16.0|                 0.0|        0.0|\n",
      "|       2| 2024-09-01 00:31:00|  2024-09-01 00:46:52|              1|          5.2|         1|                 N|          93|         130|           1|       24.7|  1.0|    0.5|      4.55|         0.0|                  1.0|       31.75|                 0.0|        0.0|\n",
      "|       2| 2024-09-01 00:11:57|  2024-09-01 00:30:41|              2|         2.26|         1|                 N|          79|         231|           1|       17.0|  1.0|    0.5|       4.4|         0.0|                  1.0|        26.4|                 2.5|        0.0|\n",
      "|       1| 2024-09-01 00:30:13|  2024-09-01 00:36:44|              1|          1.2|         1|                 N|          43|         239|           1|        8.6|  3.5|    0.5|       2.7|         0.0|                  1.0|        16.3|                 2.5|        0.0|\n",
      "|       1| 2024-09-01 00:59:24|  2024-09-01 01:01:00|              1|          0.1|         5|                 N|         143|         143|           3|       0.01|  0.0|    0.0|       0.0|         0.0|                  1.0|        1.01|                 0.0|        0.0|\n",
      "|       1| 2024-09-01 00:08:28|  2024-09-01 00:39:06|              4|          9.8|         1|                 N|          93|         161|           1|       44.3|  3.5|    0.5|      9.85|         0.0|                  1.0|       59.15|                 2.5|        0.0|\n",
      "|       1| 2024-09-01 00:06:07|  2024-09-01 00:11:38|              1|          0.6|         1|                 N|         170|         137|           1|        6.5|  3.5|    0.5|       2.9|         0.0|                  1.0|        14.4|                 2.5|        0.0|\n",
      "|       1| 2024-09-01 00:20:28|  2024-09-01 00:36:06|              1|          4.1|         1|                 N|          79|         263|           1|       19.1|  3.5|    0.5|       4.8|         0.0|                  1.0|        28.9|                 2.5|        0.0|\n",
      "+--------+--------------------+---------------------+---------------+-------------+----------+------------------+------------+------------+------------+-----------+-----+-------+----------+------------+---------------------+------------+--------------------+-----------+\n",
      "\n"
     ]
    }
   ],
   "source": [
    "spark.sql(\"select * from taxi_temp_view limit 10\").show()"
   ]
  },
  {
   "cell_type": "code",
   "execution_count": 72,
   "metadata": {},
   "outputs": [
    {
     "name": "stdout",
     "output_type": "stream",
     "text": [
      "+--------+--------------------+---------------------+---------------+-------------+----------+------------------+------------+------------+------------+-----------+-----+-------+----------+------------+---------------------+------------+--------------------+-----------+\n",
      "|VendorID|tpep_pickup_datetime|tpep_dropoff_datetime|passenger_count|trip_distance|RatecodeID|store_and_fwd_flag|PULocationID|DOLocationID|payment_type|fare_amount|extra|mta_tax|tip_amount|tolls_amount|improvement_surcharge|total_amount|congestion_surcharge|Airport_fee|\n",
      "+--------+--------------------+---------------------+---------------+-------------+----------+------------------+------------+------------+------------+-----------+-----+-------+----------+------------+---------------------+------------+--------------------+-----------+\n",
      "|       1| 2024-09-01 00:57:30|  2024-09-01 01:40:20|              2|         14.5|         1|                 N|         132|          91|           1|       64.6| 2.75|    0.5|     13.77|         0.0|                  1.0|       82.62|                 0.0|       1.75|\n",
      "|       2| 2024-09-01 00:19:05|  2024-09-01 00:37:21|              1|        10.37|         1|                 N|         138|         216|           1|       40.1|  6.0|    0.5|       7.4|         0.0|                  1.0|       56.75|                 0.0|       1.75|\n",
      "|       2| 2024-09-01 00:28:49|  2024-09-01 01:18:09|              1|        14.69|         1|                 N|          87|         223|           1|       66.0|  1.0|    0.5|      14.2|         0.0|                  1.0|        85.2|                 2.5|        0.0|\n",
      "|       2| 2024-09-01 00:33:49|  2024-09-01 01:04:30|              2|        16.86|         2|                 N|         132|          48|           1|       70.0|  0.0|    0.5|     16.19|        6.94|                  1.0|       98.88|                 2.5|       1.75|\n",
      "|       2| 2024-09-01 00:37:56|  2024-09-01 01:07:34|              1|        20.69|         2|                 N|         132|         140|           1|       70.0|  0.0|    0.5|     16.19|        6.94|                  1.0|       98.88|                 2.5|       1.75|\n",
      "|       1| 2024-09-01 00:19:39|  2024-09-01 00:52:04|              1|         17.4|         2|                 N|         132|         230|           1|       70.0| 4.25|    0.5|      10.0|        6.94|                  1.0|       92.69|                 2.5|       1.75|\n",
      "|       2| 2024-09-01 00:47:02|  2024-09-01 01:13:49|              1|        10.17|         1|                 N|         234|         257|           1|       41.5|  1.0|    0.5|      6.08|        6.94|                  1.0|       59.52|                 2.5|        0.0|\n",
      "|       2| 2024-09-01 00:32:58|  2024-09-01 01:04:07|              2|        18.05|         2|                 N|         132|          68|           1|       70.0|  0.0|    0.5|     16.19|        6.94|                  1.0|       98.88|                 2.5|       1.75|\n",
      "|       2| 2024-09-01 00:04:21|  2024-09-01 00:47:54|              4|        12.84|         1|                 N|         132|         189|           1|       56.9|  1.0|    0.5|     11.88|         0.0|                  1.0|       73.03|                 0.0|       1.75|\n",
      "|       2| 2024-09-01 00:37:45|  2024-09-01 01:13:22|              1|        19.08|         1|                 N|         230|         265|           1|       73.0|  1.0|    0.5|     16.99|        6.94|                  1.0|      101.93|                 2.5|        0.0|\n",
      "+--------+--------------------+---------------------+---------------+-------------+----------+------------------+------------+------------+------------+-----------+-----+-------+----------+------------+---------------------+------------+--------------------+-----------+\n",
      "\n"
     ]
    }
   ],
   "source": [
    "spark.sql(\n",
    "    \"\"\"\n",
    "    SELECT\n",
    "        *\n",
    "    FROM\n",
    "        taxi_temp_view\n",
    "    WHERE\n",
    "        trip_distance > 10\n",
    "    Limit 10\n",
    "    \"\"\"\n",
    ").show()"
   ]
  },
  {
   "cell_type": "code",
   "execution_count": 73,
   "metadata": {},
   "outputs": [
    {
     "name": "stdout",
     "output_type": "stream",
     "text": [
      "+------------+------------------+\n",
      "|payment_type|        avg_amount|\n",
      "+------------+------------------+\n",
      "|           1|31.132636716912728|\n",
      "|           2|23.992416616129827|\n",
      "|           0|23.933110737169443|\n",
      "|           3| 7.835484864032835|\n",
      "|           4|1.8263854120252212|\n",
      "+------------+------------------+\n",
      "\n"
     ]
    }
   ],
   "source": [
    "avg_amount_by_payment_type = spark.sql(\n",
    "    \"\"\"\n",
    "    SELECT\n",
    "        payment_type,\n",
    "        avg(total_amount) as avg_amount\n",
    "    FROM\n",
    "        taxi_temp_view\n",
    "    GROUP BY\n",
    "        payment_type\n",
    "    ORDER BY\n",
    "        avg_amount DESC\n",
    "    \"\"\"\n",
    ")\n",
    "\n",
    "avg_amount_by_payment_type.show(10)"
   ]
  },
  {
   "cell_type": "markdown",
   "metadata": {},
   "source": [
    "##### Caching"
   ]
  },
  {
   "cell_type": "code",
   "execution_count": 74,
   "metadata": {},
   "outputs": [],
   "source": [
    "import time"
   ]
  },
  {
   "cell_type": "code",
   "execution_count": 77,
   "metadata": {},
   "outputs": [
    {
     "name": "stdout",
     "output_type": "stream",
     "text": [
      "+------+-------+\n",
      "|number|doubled|\n",
      "+------+-------+\n",
      "|     1|      2|\n",
      "|     2|      4|\n",
      "|     3|      6|\n",
      "|     4|      8|\n",
      "|     5|     10|\n",
      "+------+-------+\n",
      "only showing top 5 rows\n",
      "\n",
      "499999\n",
      "499999\n",
      "Execution time:  15.572580575942993\n"
     ]
    }
   ],
   "source": [
    "data = [(i, i * 2) for i in range(1, 1000000)]\n",
    "df = spark.createDataFrame(data, [\"number\", \"doubled\"])\n",
    "df.show(5)\n",
    "\n",
    "start_time = time.time()\n",
    "\n",
    "df_filtered = df.filter(df[\"number\"] % 2 == 0)\n",
    "print(df_filtered.count())\n",
    "print(df_filtered.count())\n",
    "\n",
    "end_time = time.time()\n",
    "print(\"Execution time: \", end_time - start_time)\n"
   ]
  },
  {
   "cell_type": "code",
   "execution_count": 78,
   "metadata": {},
   "outputs": [
    {
     "name": "stdout",
     "output_type": "stream",
     "text": [
      "+------+-------+\n",
      "|number|doubled|\n",
      "+------+-------+\n",
      "|     1|      2|\n",
      "|     2|      4|\n",
      "|     3|      6|\n",
      "|     4|      8|\n",
      "|     5|     10|\n",
      "+------+-------+\n",
      "only showing top 5 rows\n",
      "\n",
      "499999\n",
      "499999\n",
      "Execution time:  7.967309951782227\n"
     ]
    }
   ],
   "source": [
    "data = [(i, i * 2) for i in range(1, 1000000)]\n",
    "df_2 = spark.createDataFrame(data, [\"number\", \"doubled\"])\n",
    "df_2.show(5)\n",
    "\n",
    "start_time = time.time()\n",
    "\n",
    "df_filtered = df_2.filter(df_2[\"number\"] % 2 == 0).cache()\n",
    "print(df_filtered.count())\n",
    "print(df_filtered.count())\n",
    "\n",
    "end_time = time.time()\n",
    "print(\"Execution time: \", end_time - start_time)"
   ]
  },
  {
   "cell_type": "code",
   "execution_count": null,
   "metadata": {},
   "outputs": [],
   "source": []
  }
 ],
 "metadata": {
  "kernelspec": {
   "display_name": ".venv",
   "language": "python",
   "name": "python3"
  },
  "language_info": {
   "codemirror_mode": {
    "name": "ipython",
    "version": 3
   },
   "file_extension": ".py",
   "mimetype": "text/x-python",
   "name": "python",
   "nbconvert_exporter": "python",
   "pygments_lexer": "ipython3",
   "version": "3.11.9"
  }
 },
 "nbformat": 4,
 "nbformat_minor": 2
}
