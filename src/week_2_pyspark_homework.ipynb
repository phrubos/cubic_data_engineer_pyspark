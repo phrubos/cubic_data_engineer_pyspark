{
 "cells": [
  {
   "cell_type": "markdown",
   "metadata": {},
   "source": [
    "### PySpark Homework\n",
    "Use this notebook to answer the questions.  \n",
    "By now, you should have a folder with notebook(s) in it. You can use this folder as your repository, or create a new one for the homeworks.\n",
    "When you are ready, **upload** to your repo, and send me the link (just zip a txt file with the repo's address, and upload it as the homework).  \n",
    "If your repo is private, invite me: balazs.balogh@cubixedu.com."
   ]
  },
  {
   "cell_type": "markdown",
   "metadata": {},
   "source": [
    "#### **1. Create the SparkSession**\n",
    "Name it \"DE - Week 1. Homework\".\n"
   ]
  },
  {
   "cell_type": "code",
   "execution_count": 1,
   "metadata": {},
   "outputs": [],
   "source": []
  },
  {
   "cell_type": "markdown",
   "metadata": {},
   "source": [
    "#### **2. Read taxi data**\n",
    "Read in the \"yellow_tripdata_2024-09.parquet\", and check the first few lines, the schema and the row count."
   ]
  },
  {
   "cell_type": "code",
   "execution_count": 2,
   "metadata": {},
   "outputs": [],
   "source": []
  },
  {
   "cell_type": "markdown",
   "metadata": {},
   "source": [
    "#### **3. Select specific columns**\n",
    "Create a new DataFrame call it \"taxi_data_2024_09_narrow\". \n",
    "\n",
    "Get the:\n",
    "\"VendorID\",\n",
    "\"tpep_pickup_datetime\",\n",
    "\"tpep_dropoff_datetime\",\n",
    "\"trip_distance\",\n",
    "\"fare_amount\",\n",
    "\"tip_amount\",\n",
    "\"total_amount\". \n",
    "\n",
    "Show the first five rows.\n"
   ]
  },
  {
   "cell_type": "code",
   "execution_count": null,
   "metadata": {},
   "outputs": [],
   "source": []
  },
  {
   "cell_type": "markdown",
   "metadata": {},
   "source": [
    "#### **4. Filter**\n",
    "Create a new DataFrame \"taxi_data_filtered\" and filter it to get only the rows where the \"trip_distance\" is greater than one mile.\n",
    "Print out the row count."
   ]
  },
  {
   "cell_type": "code",
   "execution_count": null,
   "metadata": {},
   "outputs": [],
   "source": []
  },
  {
   "attachments": {
    "image.png": {
     "image/png": "[encoded data removed]"
    }
   },
   "cell_type": "markdown",
   "metadata": {},
   "source": [
    "#### **4. Calculate \"total_tip_percentage\"**\n",
    "Create a DataFrame \"taxi_data_with_tip_percentage\" with a new column \"total_tip_percentage\" which is the percentage of the tip_amount over the total_amount. \n",
    "The formula is:\n",
    "\n",
    "![image.png](attachment:image.png)\n",
    "\n",
    "Show the row with the biggest percentage (it will be an outlier). Only one row."
   ]
  },
  {
   "cell_type": "code",
   "execution_count": null,
   "metadata": {},
   "outputs": [],
   "source": []
  },
  {
   "cell_type": "markdown",
   "metadata": {},
   "source": [
    "#### **5. Create the aggregations**\n",
    "On \"VendorID\", group by to create these aggregations:\n",
    "- Count of the rows, name it as \"total_trips\".\n",
    "- Average trip distance, name it \"avg_trip_distance\".\n",
    "- Sum of the fare amount, alias will be \"total_fare_amount\".\n",
    "- Sum of the tip amount, as \"total_tip_amount\".\n",
    "- Average on the new column \"total_tip_percentage\", call it \"avg_tip_percentage\".\n",
    "\n",
    "Show the results"
   ]
  },
  {
   "cell_type": "code",
   "execution_count": null,
   "metadata": {},
   "outputs": [],
   "source": []
  }
 ],
 "metadata": {
  "kernelspec": {
   "display_name": ".venv",
   "language": "python",
   "name": "python3"
  },
  "language_info": {
   "codemirror_mode": {
    "name": "ipython",
    "version": 3
   },
   "file_extension": ".py",
   "mimetype": "text/x-python",
   "name": "python",
   "nbconvert_exporter": "python",
   "pygments_lexer": "ipython3",
   "version": "3.10.8"
  }
 },
 "nbformat": 4,
 "nbformat_minor": 2
}
